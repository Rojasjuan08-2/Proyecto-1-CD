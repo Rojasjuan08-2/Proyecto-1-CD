{
 "cells": [
  {
   "cell_type": "markdown",
   "id": "cb7d0a6d",
   "metadata": {},
   "source": [
    "# Cargamos el Data Set"
   ]
  },
  {
   "cell_type": "code",
   "execution_count": null,
   "id": "623d57e2",
   "metadata": {
    "vscode": {
     "languageId": "plaintext"
    }
   },
   "outputs": [],
   "source": [
    "\n",
    "import kagglehub\n",
    "from kagglehub import KaggleDatasetAdapter\n",
    "\n",
    "# Set the path to the file you'd like to load\n",
    "file_path = \"\"\n",
    "\n",
    "# Load the latest version\n",
    "df = kagglehub.load_dataset(\n",
    "  KaggleDatasetAdapter.PANDAS,\n",
    "  \"mehmettahiraslan/customer-shopping-dataset\",\n",
    "  file_path,\n",
    "  # Provide any additional arguments like \n",
    "  # sql_query or pandas_kwargs. See the \n",
    "  # documenation for more information:\n",
    "  # https://github.com/Kaggle/kagglehub/blob/main/README.md#kaggledatasetadapterpandas\n",
    ")"
   ]
  },
  {
   "cell_type": "markdown",
   "id": "76f9e30c",
   "metadata": {},
   "source": [
    "## Proceso de ETL."
   ]
  },
  {
   "cell_type": "code",
   "execution_count": null,
   "id": "1cdf9aa4",
   "metadata": {
    "vscode": {
     "languageId": "plaintext"
    }
   },
   "outputs": [],
   "source": [
    "import pandas as pd\n",
    "from sqlalchemy import create_engine"
   ]
  }
 ],
 "metadata": {
  "language_info": {
   "name": "python"
  }
 },
 "nbformat": 4,
 "nbformat_minor": 5
}
