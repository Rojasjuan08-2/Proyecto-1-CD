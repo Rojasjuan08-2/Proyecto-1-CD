{
 "cells": [
  {
   "cell_type": "markdown",
   "id": "cb7d0a6d",
   "metadata": {},
   "source": [
    "# Cargamos el Data Set"
   ]
  },
  {
   "cell_type": "code",
   "execution_count": 4,
   "id": "623d57e2",
   "metadata": {},
   "outputs": [
    {
     "name": "stdout",
     "output_type": "stream",
     "text": [
      "Downloading from https://www.kaggle.com/api/v1/datasets/download/mehmettahiraslan/customer-shopping-dataset?dataset_version_number=2&file_name=customer_shopping_data.csv...\n"
     ]
    },
    {
     "name": "stderr",
     "output_type": "stream",
     "text": [
      "100%|██████████| 1.63M/1.63M [00:00<00:00, 3.41MB/s]"
     ]
    },
    {
     "name": "stdout",
     "output_type": "stream",
     "text": [
      "Extracting zip of customer_shopping_data.csv...\n"
     ]
    },
    {
     "name": "stderr",
     "output_type": "stream",
     "text": [
      "\n"
     ]
    },
    {
     "name": "stdout",
     "output_type": "stream",
     "text": [
      "  invoice_no customer_id  gender  age  category  quantity    price  \\\n",
      "0    I138884     C241288  Female   28  Clothing         5  1500.40   \n",
      "1    I317333     C111565    Male   21     Shoes         3  1800.51   \n",
      "2    I127801     C266599    Male   20  Clothing         1   300.08   \n",
      "3    I173702     C988172  Female   66     Shoes         5  3000.85   \n",
      "4    I337046     C189076  Female   53     Books         4    60.60   \n",
      "\n",
      "  payment_method invoice_date   shopping_mall  \n",
      "0    Credit Card     5/8/2022          Kanyon  \n",
      "1     Debit Card   12/12/2021  Forum Istanbul  \n",
      "2           Cash    9/11/2021       Metrocity  \n",
      "3    Credit Card   16/05/2021    Metropol AVM  \n",
      "4           Cash   24/10/2021          Kanyon  \n"
     ]
    }
   ],
   "source": [
    "\n",
    "import kagglehub\n",
    "from kagglehub import KaggleDatasetAdapter\n",
    "\n",
    "# Set the path to the file you'd like to load\n",
    "file_path = \"customer_shopping_data.csv\"\n",
    "\n",
    "# Load the latest version\n",
    "df = kagglehub.dataset_load(\n",
    "  KaggleDatasetAdapter.PANDAS, \n",
    "  \"mehmettahiraslan/customer-shopping-dataset\",\n",
    "  file_path\n",
    ")\n",
    "\n",
    "print(df.head())"
   ]
  },
  {
   "cell_type": "markdown",
   "id": "76f9e30c",
   "metadata": {},
   "source": [
    "## Proceso de ETL."
   ]
  },
  {
   "cell_type": "code",
   "execution_count": null,
   "id": "1cdf9aa4",
   "metadata": {},
   "outputs": [],
   "source": [
    "import pandas as pd\n",
    "from sqlalchemy import create_engine"
   ]
  }
 ],
 "metadata": {
  "kernelspec": {
   "display_name": "venv",
   "language": "python",
   "name": "python3"
  },
  "language_info": {
   "codemirror_mode": {
    "name": "ipython",
    "version": 3
   },
   "file_extension": ".py",
   "mimetype": "text/x-python",
   "name": "python",
   "nbconvert_exporter": "python",
   "pygments_lexer": "ipython3",
   "version": "3.12.3"
  }
 },
 "nbformat": 4,
 "nbformat_minor": 5
}
